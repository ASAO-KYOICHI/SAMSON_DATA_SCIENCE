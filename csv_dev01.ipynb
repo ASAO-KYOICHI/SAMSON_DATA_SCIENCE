{
 "cells": [
  {
   "cell_type": "markdown",
   "metadata": {},
   "source": [
    "### 必要なものをインポートする"
   ]
  },
  {
   "cell_type": "code",
   "execution_count": 1,
   "metadata": {},
   "outputs": [],
   "source": [
    "%matplotlib inline\n",
    "import pandas as pd\n",
    "import numpy as np\n",
    "import matplotlib.pyplot as plt"
   ]
  },
  {
   "cell_type": "markdown",
   "metadata": {},
   "source": [
    "### CSVを読み込む"
   ]
  },
  {
   "cell_type": "code",
   "execution_count": 2,
   "metadata": {},
   "outputs": [
    {
     "name": "stderr",
     "output_type": "stream",
     "text": [
      "C:\\Users\\User\\anaconda3\\lib\\site-packages\\IPython\\core\\interactiveshell.py:3071: DtypeWarning: Columns (0,3,4,5,6,12,13) have mixed types.Specify dtype option on import or set low_memory=False.\n",
      "  has_raised = await self.run_ast_nodes(code_ast.body, cell_name,\n"
     ]
    }
   ],
   "source": [
    "df_csv = pd.read_csv(\"samp01.csv\", encoding=\"shift-jis\")"
   ]
  },
  {
   "cell_type": "code",
   "execution_count": 3,
   "metadata": {},
   "outputs": [
    {
     "data": {
      "text/html": [
       "<div>\n",
       "<style scoped>\n",
       "    .dataframe tbody tr th:only-of-type {\n",
       "        vertical-align: middle;\n",
       "    }\n",
       "\n",
       "    .dataframe tbody tr th {\n",
       "        vertical-align: top;\n",
       "    }\n",
       "\n",
       "    .dataframe thead th {\n",
       "        text-align: right;\n",
       "    }\n",
       "</style>\n",
       "<table border=\"1\" class=\"dataframe\">\n",
       "  <thead>\n",
       "    <tr style=\"text-align: right;\">\n",
       "      <th></th>\n",
       "      <th>番号</th>\n",
       "      <th>日付</th>\n",
       "      <th>時間</th>\n",
       "      <th>us</th>\n",
       "      <th>CH1</th>\n",
       "      <th>CH2</th>\n",
       "      <th>CH3</th>\n",
       "      <th>CH4</th>\n",
       "      <th>CH5</th>\n",
       "      <th>CH6</th>\n",
       "      <th>CH7</th>\n",
       "      <th>CH8</th>\n",
       "      <th>Pulse1</th>\n",
       "      <th>Pulse2</th>\n",
       "      <th>Pulse3</th>\n",
       "      <th>Pulse4</th>\n",
       "      <th>Alarm</th>\n",
       "      <th>AlarmOut</th>\n",
       "    </tr>\n",
       "  </thead>\n",
       "  <tbody>\n",
       "    <tr>\n",
       "      <th>0</th>\n",
       "      <td>NO.</td>\n",
       "      <td>Date</td>\n",
       "      <td>Time</td>\n",
       "      <td>us</td>\n",
       "      <td>V</td>\n",
       "      <td>V</td>\n",
       "      <td>V</td>\n",
       "      <td>NaN</td>\n",
       "      <td>NaN</td>\n",
       "      <td>NaN</td>\n",
       "      <td>NaN</td>\n",
       "      <td>NaN</td>\n",
       "      <td>C</td>\n",
       "      <td>C</td>\n",
       "      <td>NaN</td>\n",
       "      <td>NaN</td>\n",
       "      <td>NaN</td>\n",
       "      <td>NaN</td>\n",
       "    </tr>\n",
       "    <tr>\n",
       "      <th>1</th>\n",
       "      <td>1</td>\n",
       "      <td>2023/03/02</td>\n",
       "      <td>15:19:01</td>\n",
       "      <td>000000</td>\n",
       "      <td>+0.036</td>\n",
       "      <td>+0.07</td>\n",
       "      <td>+0.017</td>\n",
       "      <td>****</td>\n",
       "      <td>****</td>\n",
       "      <td>****</td>\n",
       "      <td>****</td>\n",
       "      <td>****</td>\n",
       "      <td>+0</td>\n",
       "      <td>+0</td>\n",
       "      <td>****</td>\n",
       "      <td>****</td>\n",
       "      <td>LLLLLLLLLLLLLLLL</td>\n",
       "      <td>LLLL</td>\n",
       "    </tr>\n",
       "    <tr>\n",
       "      <th>2</th>\n",
       "      <td>2</td>\n",
       "      <td>2023/03/02</td>\n",
       "      <td>15:19:01</td>\n",
       "      <td>001000</td>\n",
       "      <td>+0.036</td>\n",
       "      <td>+0.07</td>\n",
       "      <td>+0.017</td>\n",
       "      <td>****</td>\n",
       "      <td>****</td>\n",
       "      <td>****</td>\n",
       "      <td>****</td>\n",
       "      <td>****</td>\n",
       "      <td>+0</td>\n",
       "      <td>+0</td>\n",
       "      <td>****</td>\n",
       "      <td>****</td>\n",
       "      <td>LLLLLLLLLLLLLLLL</td>\n",
       "      <td>LLLL</td>\n",
       "    </tr>\n",
       "    <tr>\n",
       "      <th>3</th>\n",
       "      <td>3</td>\n",
       "      <td>2023/03/02</td>\n",
       "      <td>15:19:01</td>\n",
       "      <td>002000</td>\n",
       "      <td>+0.041</td>\n",
       "      <td>+0.08</td>\n",
       "      <td>+0.021</td>\n",
       "      <td>****</td>\n",
       "      <td>****</td>\n",
       "      <td>****</td>\n",
       "      <td>****</td>\n",
       "      <td>****</td>\n",
       "      <td>+0</td>\n",
       "      <td>+0</td>\n",
       "      <td>****</td>\n",
       "      <td>****</td>\n",
       "      <td>LLLLLLLLLLLLLLLL</td>\n",
       "      <td>LLLL</td>\n",
       "    </tr>\n",
       "    <tr>\n",
       "      <th>4</th>\n",
       "      <td>4</td>\n",
       "      <td>2023/03/02</td>\n",
       "      <td>15:19:01</td>\n",
       "      <td>003000</td>\n",
       "      <td>+0.041</td>\n",
       "      <td>+0.07</td>\n",
       "      <td>+0.026</td>\n",
       "      <td>****</td>\n",
       "      <td>****</td>\n",
       "      <td>****</td>\n",
       "      <td>****</td>\n",
       "      <td>****</td>\n",
       "      <td>+0</td>\n",
       "      <td>+0</td>\n",
       "      <td>****</td>\n",
       "      <td>****</td>\n",
       "      <td>LLLLLLLLLLLLLLLL</td>\n",
       "      <td>LLLL</td>\n",
       "    </tr>\n",
       "  </tbody>\n",
       "</table>\n",
       "</div>"
      ],
      "text/plain": [
       "    番号          日付        時間      us     CH1    CH2     CH3   CH4   CH5   CH6  \\\n",
       "0  NO.        Date      Time      us       V      V       V   NaN   NaN   NaN   \n",
       "1    1  2023/03/02  15:19:01  000000  +0.036  +0.07  +0.017  ****  ****  ****   \n",
       "2    2  2023/03/02  15:19:01  001000  +0.036  +0.07  +0.017  ****  ****  ****   \n",
       "3    3  2023/03/02  15:19:01  002000  +0.041  +0.08  +0.021  ****  ****  ****   \n",
       "4    4  2023/03/02  15:19:01  003000  +0.041  +0.07  +0.026  ****  ****  ****   \n",
       "\n",
       "    CH7   CH8 Pulse1 Pulse2 Pulse3 Pulse4             Alarm AlarmOut  \n",
       "0   NaN   NaN      C      C    NaN    NaN               NaN      NaN  \n",
       "1  ****  ****     +0     +0   ****   ****  LLLLLLLLLLLLLLLL     LLLL  \n",
       "2  ****  ****     +0     +0   ****   ****  LLLLLLLLLLLLLLLL     LLLL  \n",
       "3  ****  ****     +0     +0   ****   ****  LLLLLLLLLLLLLLLL     LLLL  \n",
       "4  ****  ****     +0     +0   ****   ****  LLLLLLLLLLLLLLLL     LLLL  "
      ]
     },
     "metadata": {},
     "output_type": "display_data"
    }
   ],
   "source": [
    "display(df_csv.head())"
   ]
  },
  {
   "cell_type": "markdown",
   "metadata": {},
   "source": [
    "### ０行目イラね"
   ]
  },
  {
   "cell_type": "code",
   "execution_count": 4,
   "metadata": {},
   "outputs": [],
   "source": [
    "df_csv.drop(0, inplace=True)"
   ]
  },
  {
   "cell_type": "code",
   "execution_count": 5,
   "metadata": {},
   "outputs": [
    {
     "data": {
      "text/html": [
       "<div>\n",
       "<style scoped>\n",
       "    .dataframe tbody tr th:only-of-type {\n",
       "        vertical-align: middle;\n",
       "    }\n",
       "\n",
       "    .dataframe tbody tr th {\n",
       "        vertical-align: top;\n",
       "    }\n",
       "\n",
       "    .dataframe thead th {\n",
       "        text-align: right;\n",
       "    }\n",
       "</style>\n",
       "<table border=\"1\" class=\"dataframe\">\n",
       "  <thead>\n",
       "    <tr style=\"text-align: right;\">\n",
       "      <th></th>\n",
       "      <th>番号</th>\n",
       "      <th>日付</th>\n",
       "      <th>時間</th>\n",
       "      <th>us</th>\n",
       "      <th>CH1</th>\n",
       "      <th>CH2</th>\n",
       "      <th>CH3</th>\n",
       "      <th>CH4</th>\n",
       "      <th>CH5</th>\n",
       "      <th>CH6</th>\n",
       "      <th>CH7</th>\n",
       "      <th>CH8</th>\n",
       "      <th>Pulse1</th>\n",
       "      <th>Pulse2</th>\n",
       "      <th>Pulse3</th>\n",
       "      <th>Pulse4</th>\n",
       "      <th>Alarm</th>\n",
       "      <th>AlarmOut</th>\n",
       "    </tr>\n",
       "  </thead>\n",
       "  <tbody>\n",
       "    <tr>\n",
       "      <th>1</th>\n",
       "      <td>1</td>\n",
       "      <td>2023/03/02</td>\n",
       "      <td>15:19:01</td>\n",
       "      <td>000000</td>\n",
       "      <td>+0.036</td>\n",
       "      <td>+0.07</td>\n",
       "      <td>+0.017</td>\n",
       "      <td>****</td>\n",
       "      <td>****</td>\n",
       "      <td>****</td>\n",
       "      <td>****</td>\n",
       "      <td>****</td>\n",
       "      <td>+0</td>\n",
       "      <td>+0</td>\n",
       "      <td>****</td>\n",
       "      <td>****</td>\n",
       "      <td>LLLLLLLLLLLLLLLL</td>\n",
       "      <td>LLLL</td>\n",
       "    </tr>\n",
       "    <tr>\n",
       "      <th>2</th>\n",
       "      <td>2</td>\n",
       "      <td>2023/03/02</td>\n",
       "      <td>15:19:01</td>\n",
       "      <td>001000</td>\n",
       "      <td>+0.036</td>\n",
       "      <td>+0.07</td>\n",
       "      <td>+0.017</td>\n",
       "      <td>****</td>\n",
       "      <td>****</td>\n",
       "      <td>****</td>\n",
       "      <td>****</td>\n",
       "      <td>****</td>\n",
       "      <td>+0</td>\n",
       "      <td>+0</td>\n",
       "      <td>****</td>\n",
       "      <td>****</td>\n",
       "      <td>LLLLLLLLLLLLLLLL</td>\n",
       "      <td>LLLL</td>\n",
       "    </tr>\n",
       "    <tr>\n",
       "      <th>3</th>\n",
       "      <td>3</td>\n",
       "      <td>2023/03/02</td>\n",
       "      <td>15:19:01</td>\n",
       "      <td>002000</td>\n",
       "      <td>+0.041</td>\n",
       "      <td>+0.08</td>\n",
       "      <td>+0.021</td>\n",
       "      <td>****</td>\n",
       "      <td>****</td>\n",
       "      <td>****</td>\n",
       "      <td>****</td>\n",
       "      <td>****</td>\n",
       "      <td>+0</td>\n",
       "      <td>+0</td>\n",
       "      <td>****</td>\n",
       "      <td>****</td>\n",
       "      <td>LLLLLLLLLLLLLLLL</td>\n",
       "      <td>LLLL</td>\n",
       "    </tr>\n",
       "    <tr>\n",
       "      <th>4</th>\n",
       "      <td>4</td>\n",
       "      <td>2023/03/02</td>\n",
       "      <td>15:19:01</td>\n",
       "      <td>003000</td>\n",
       "      <td>+0.041</td>\n",
       "      <td>+0.07</td>\n",
       "      <td>+0.026</td>\n",
       "      <td>****</td>\n",
       "      <td>****</td>\n",
       "      <td>****</td>\n",
       "      <td>****</td>\n",
       "      <td>****</td>\n",
       "      <td>+0</td>\n",
       "      <td>+0</td>\n",
       "      <td>****</td>\n",
       "      <td>****</td>\n",
       "      <td>LLLLLLLLLLLLLLLL</td>\n",
       "      <td>LLLL</td>\n",
       "    </tr>\n",
       "    <tr>\n",
       "      <th>5</th>\n",
       "      <td>5</td>\n",
       "      <td>2023/03/02</td>\n",
       "      <td>15:19:01</td>\n",
       "      <td>004000</td>\n",
       "      <td>+0.038</td>\n",
       "      <td>+0.07</td>\n",
       "      <td>+0.012</td>\n",
       "      <td>****</td>\n",
       "      <td>****</td>\n",
       "      <td>****</td>\n",
       "      <td>****</td>\n",
       "      <td>****</td>\n",
       "      <td>+0</td>\n",
       "      <td>+0</td>\n",
       "      <td>****</td>\n",
       "      <td>****</td>\n",
       "      <td>LLLLLLLLLLLLLLLL</td>\n",
       "      <td>LLLL</td>\n",
       "    </tr>\n",
       "  </tbody>\n",
       "</table>\n",
       "</div>"
      ],
      "text/plain": [
       "  番号          日付        時間      us     CH1    CH2     CH3   CH4   CH5   CH6  \\\n",
       "1  1  2023/03/02  15:19:01  000000  +0.036  +0.07  +0.017  ****  ****  ****   \n",
       "2  2  2023/03/02  15:19:01  001000  +0.036  +0.07  +0.017  ****  ****  ****   \n",
       "3  3  2023/03/02  15:19:01  002000  +0.041  +0.08  +0.021  ****  ****  ****   \n",
       "4  4  2023/03/02  15:19:01  003000  +0.041  +0.07  +0.026  ****  ****  ****   \n",
       "5  5  2023/03/02  15:19:01  004000  +0.038  +0.07  +0.012  ****  ****  ****   \n",
       "\n",
       "    CH7   CH8 Pulse1 Pulse2 Pulse3 Pulse4             Alarm AlarmOut  \n",
       "1  ****  ****     +0     +0   ****   ****  LLLLLLLLLLLLLLLL     LLLL  \n",
       "2  ****  ****     +0     +0   ****   ****  LLLLLLLLLLLLLLLL     LLLL  \n",
       "3  ****  ****     +0     +0   ****   ****  LLLLLLLLLLLLLLLL     LLLL  \n",
       "4  ****  ****     +0     +0   ****   ****  LLLLLLLLLLLLLLLL     LLLL  \n",
       "5  ****  ****     +0     +0   ****   ****  LLLLLLLLLLLLLLLL     LLLL  "
      ]
     },
     "metadata": {},
     "output_type": "display_data"
    }
   ],
   "source": [
    "display(df_csv.head())"
   ]
  },
  {
   "cell_type": "code",
   "execution_count": 6,
   "metadata": {},
   "outputs": [
    {
     "data": {
      "text/html": [
       "<div>\n",
       "<style scoped>\n",
       "    .dataframe tbody tr th:only-of-type {\n",
       "        vertical-align: middle;\n",
       "    }\n",
       "\n",
       "    .dataframe tbody tr th {\n",
       "        vertical-align: top;\n",
       "    }\n",
       "\n",
       "    .dataframe thead th {\n",
       "        text-align: right;\n",
       "    }\n",
       "</style>\n",
       "<table border=\"1\" class=\"dataframe\">\n",
       "  <thead>\n",
       "    <tr style=\"text-align: right;\">\n",
       "      <th></th>\n",
       "      <th>番号</th>\n",
       "      <th>日付</th>\n",
       "      <th>時間</th>\n",
       "      <th>us</th>\n",
       "      <th>CH1</th>\n",
       "      <th>CH2</th>\n",
       "      <th>CH3</th>\n",
       "      <th>CH4</th>\n",
       "      <th>CH5</th>\n",
       "      <th>CH6</th>\n",
       "      <th>CH7</th>\n",
       "      <th>CH8</th>\n",
       "      <th>Pulse1</th>\n",
       "      <th>Pulse2</th>\n",
       "      <th>Pulse3</th>\n",
       "      <th>Pulse4</th>\n",
       "      <th>Alarm</th>\n",
       "      <th>AlarmOut</th>\n",
       "    </tr>\n",
       "  </thead>\n",
       "  <tbody>\n",
       "    <tr>\n",
       "      <th>380977</th>\n",
       "      <td>380977</td>\n",
       "      <td>2023/03/02</td>\n",
       "      <td>15:25:21</td>\n",
       "      <td>976000</td>\n",
       "      <td>11.942</td>\n",
       "      <td>23.99</td>\n",
       "      <td>0.016</td>\n",
       "      <td>****</td>\n",
       "      <td>****</td>\n",
       "      <td>****</td>\n",
       "      <td>****</td>\n",
       "      <td>****</td>\n",
       "      <td>0</td>\n",
       "      <td>242</td>\n",
       "      <td>****</td>\n",
       "      <td>****</td>\n",
       "      <td>LLLLLLLLLLLLLLLL</td>\n",
       "      <td>LLLL</td>\n",
       "    </tr>\n",
       "    <tr>\n",
       "      <th>380978</th>\n",
       "      <td>380978</td>\n",
       "      <td>2023/03/02</td>\n",
       "      <td>15:25:21</td>\n",
       "      <td>977000</td>\n",
       "      <td>11.936</td>\n",
       "      <td>23.97</td>\n",
       "      <td>0.021</td>\n",
       "      <td>****</td>\n",
       "      <td>****</td>\n",
       "      <td>****</td>\n",
       "      <td>****</td>\n",
       "      <td>****</td>\n",
       "      <td>0</td>\n",
       "      <td>242</td>\n",
       "      <td>****</td>\n",
       "      <td>****</td>\n",
       "      <td>LLLLLLLLLLLLLLLL</td>\n",
       "      <td>LLLL</td>\n",
       "    </tr>\n",
       "    <tr>\n",
       "      <th>380979</th>\n",
       "      <td>380979</td>\n",
       "      <td>2023/03/02</td>\n",
       "      <td>15:25:21</td>\n",
       "      <td>978000</td>\n",
       "      <td>11.944</td>\n",
       "      <td>23.99</td>\n",
       "      <td>0.02</td>\n",
       "      <td>****</td>\n",
       "      <td>****</td>\n",
       "      <td>****</td>\n",
       "      <td>****</td>\n",
       "      <td>****</td>\n",
       "      <td>0</td>\n",
       "      <td>242</td>\n",
       "      <td>****</td>\n",
       "      <td>****</td>\n",
       "      <td>LLLLLLLLLLLLLLLL</td>\n",
       "      <td>LLLL</td>\n",
       "    </tr>\n",
       "    <tr>\n",
       "      <th>380980</th>\n",
       "      <td>380980</td>\n",
       "      <td>2023/03/02</td>\n",
       "      <td>15:25:21</td>\n",
       "      <td>979000</td>\n",
       "      <td>11.947</td>\n",
       "      <td>23.98</td>\n",
       "      <td>0.015</td>\n",
       "      <td>****</td>\n",
       "      <td>****</td>\n",
       "      <td>****</td>\n",
       "      <td>****</td>\n",
       "      <td>****</td>\n",
       "      <td>0</td>\n",
       "      <td>242</td>\n",
       "      <td>****</td>\n",
       "      <td>****</td>\n",
       "      <td>LLLLLLLLLLLLLLLL</td>\n",
       "      <td>LLLL</td>\n",
       "    </tr>\n",
       "    <tr>\n",
       "      <th>380981</th>\n",
       "      <td>380981</td>\n",
       "      <td>2023/03/02</td>\n",
       "      <td>15:25:21</td>\n",
       "      <td>980000</td>\n",
       "      <td>11.942</td>\n",
       "      <td>23.98</td>\n",
       "      <td>0.019</td>\n",
       "      <td>****</td>\n",
       "      <td>****</td>\n",
       "      <td>****</td>\n",
       "      <td>****</td>\n",
       "      <td>****</td>\n",
       "      <td>0</td>\n",
       "      <td>242</td>\n",
       "      <td>****</td>\n",
       "      <td>****</td>\n",
       "      <td>LLLLLLLLLLLLLLLL</td>\n",
       "      <td>LLLL</td>\n",
       "    </tr>\n",
       "  </tbody>\n",
       "</table>\n",
       "</div>"
      ],
      "text/plain": [
       "            番号          日付        時間      us     CH1    CH2    CH3   CH4  \\\n",
       "380977  380977  2023/03/02  15:25:21  976000  11.942  23.99  0.016  ****   \n",
       "380978  380978  2023/03/02  15:25:21  977000  11.936  23.97  0.021  ****   \n",
       "380979  380979  2023/03/02  15:25:21  978000  11.944  23.99   0.02  ****   \n",
       "380980  380980  2023/03/02  15:25:21  979000  11.947  23.98  0.015  ****   \n",
       "380981  380981  2023/03/02  15:25:21  980000  11.942  23.98  0.019  ****   \n",
       "\n",
       "         CH5   CH6   CH7   CH8 Pulse1 Pulse2 Pulse3 Pulse4             Alarm  \\\n",
       "380977  ****  ****  ****  ****      0    242   ****   ****  LLLLLLLLLLLLLLLL   \n",
       "380978  ****  ****  ****  ****      0    242   ****   ****  LLLLLLLLLLLLLLLL   \n",
       "380979  ****  ****  ****  ****      0    242   ****   ****  LLLLLLLLLLLLLLLL   \n",
       "380980  ****  ****  ****  ****      0    242   ****   ****  LLLLLLLLLLLLLLLL   \n",
       "380981  ****  ****  ****  ****      0    242   ****   ****  LLLLLLLLLLLLLLLL   \n",
       "\n",
       "       AlarmOut  \n",
       "380977     LLLL  \n",
       "380978     LLLL  \n",
       "380979     LLLL  \n",
       "380980     LLLL  \n",
       "380981     LLLL  "
      ]
     },
     "metadata": {},
     "output_type": "display_data"
    }
   ],
   "source": [
    "display(df_csv.tail())"
   ]
  },
  {
   "cell_type": "markdown",
   "metadata": {},
   "source": [
    "### 不要な列を消す"
   ]
  },
  {
   "cell_type": "code",
   "execution_count": 7,
   "metadata": {},
   "outputs": [],
   "source": [
    "df_csv.drop(['番号', '日付', '時間', 'us', 'CH4', 'CH5', 'CH6', 'CH7', 'CH8', 'Pulse1', 'Pulse3', 'Pulse4', 'Alarm', 'AlarmOut'], axis=1, inplace=True)"
   ]
  },
  {
   "cell_type": "code",
   "execution_count": 8,
   "metadata": {},
   "outputs": [
    {
     "data": {
      "text/html": [
       "<div>\n",
       "<style scoped>\n",
       "    .dataframe tbody tr th:only-of-type {\n",
       "        vertical-align: middle;\n",
       "    }\n",
       "\n",
       "    .dataframe tbody tr th {\n",
       "        vertical-align: top;\n",
       "    }\n",
       "\n",
       "    .dataframe thead th {\n",
       "        text-align: right;\n",
       "    }\n",
       "</style>\n",
       "<table border=\"1\" class=\"dataframe\">\n",
       "  <thead>\n",
       "    <tr style=\"text-align: right;\">\n",
       "      <th></th>\n",
       "      <th>CH1</th>\n",
       "      <th>CH2</th>\n",
       "      <th>CH3</th>\n",
       "      <th>Pulse2</th>\n",
       "    </tr>\n",
       "  </thead>\n",
       "  <tbody>\n",
       "    <tr>\n",
       "      <th>1</th>\n",
       "      <td>+0.036</td>\n",
       "      <td>+0.07</td>\n",
       "      <td>+0.017</td>\n",
       "      <td>+0</td>\n",
       "    </tr>\n",
       "    <tr>\n",
       "      <th>2</th>\n",
       "      <td>+0.036</td>\n",
       "      <td>+0.07</td>\n",
       "      <td>+0.017</td>\n",
       "      <td>+0</td>\n",
       "    </tr>\n",
       "    <tr>\n",
       "      <th>3</th>\n",
       "      <td>+0.041</td>\n",
       "      <td>+0.08</td>\n",
       "      <td>+0.021</td>\n",
       "      <td>+0</td>\n",
       "    </tr>\n",
       "    <tr>\n",
       "      <th>4</th>\n",
       "      <td>+0.041</td>\n",
       "      <td>+0.07</td>\n",
       "      <td>+0.026</td>\n",
       "      <td>+0</td>\n",
       "    </tr>\n",
       "    <tr>\n",
       "      <th>5</th>\n",
       "      <td>+0.038</td>\n",
       "      <td>+0.07</td>\n",
       "      <td>+0.012</td>\n",
       "      <td>+0</td>\n",
       "    </tr>\n",
       "  </tbody>\n",
       "</table>\n",
       "</div>"
      ],
      "text/plain": [
       "      CH1    CH2     CH3 Pulse2\n",
       "1  +0.036  +0.07  +0.017     +0\n",
       "2  +0.036  +0.07  +0.017     +0\n",
       "3  +0.041  +0.08  +0.021     +0\n",
       "4  +0.041  +0.07  +0.026     +0\n",
       "5  +0.038  +0.07  +0.012     +0"
      ]
     },
     "metadata": {},
     "output_type": "display_data"
    }
   ],
   "source": [
    "display(df_csv.head())"
   ]
  },
  {
   "cell_type": "markdown",
   "metadata": {},
   "source": [
    "### アヤシイのでデータ型を見る"
   ]
  },
  {
   "cell_type": "code",
   "execution_count": 9,
   "metadata": {},
   "outputs": [
    {
     "data": {
      "text/plain": [
       "CH1       object\n",
       "CH2       object\n",
       "CH3       object\n",
       "Pulse2    object\n",
       "dtype: object"
      ]
     },
     "execution_count": 9,
     "metadata": {},
     "output_type": "execute_result"
    }
   ],
   "source": [
    "df_csv.dtypes"
   ]
  },
  {
   "cell_type": "markdown",
   "metadata": {},
   "source": [
    "### 型をフロートにする"
   ]
  },
  {
   "cell_type": "code",
   "execution_count": 10,
   "metadata": {},
   "outputs": [
    {
     "data": {
      "text/html": [
       "<div>\n",
       "<style scoped>\n",
       "    .dataframe tbody tr th:only-of-type {\n",
       "        vertical-align: middle;\n",
       "    }\n",
       "\n",
       "    .dataframe tbody tr th {\n",
       "        vertical-align: top;\n",
       "    }\n",
       "\n",
       "    .dataframe thead th {\n",
       "        text-align: right;\n",
       "    }\n",
       "</style>\n",
       "<table border=\"1\" class=\"dataframe\">\n",
       "  <thead>\n",
       "    <tr style=\"text-align: right;\">\n",
       "      <th></th>\n",
       "      <th>CH1</th>\n",
       "      <th>CH2</th>\n",
       "      <th>CH3</th>\n",
       "      <th>Pulse2</th>\n",
       "    </tr>\n",
       "  </thead>\n",
       "  <tbody>\n",
       "    <tr>\n",
       "      <th>1</th>\n",
       "      <td>0.036</td>\n",
       "      <td>0.07</td>\n",
       "      <td>0.017</td>\n",
       "      <td>0.0</td>\n",
       "    </tr>\n",
       "    <tr>\n",
       "      <th>2</th>\n",
       "      <td>0.036</td>\n",
       "      <td>0.07</td>\n",
       "      <td>0.017</td>\n",
       "      <td>0.0</td>\n",
       "    </tr>\n",
       "    <tr>\n",
       "      <th>3</th>\n",
       "      <td>0.041</td>\n",
       "      <td>0.08</td>\n",
       "      <td>0.021</td>\n",
       "      <td>0.0</td>\n",
       "    </tr>\n",
       "    <tr>\n",
       "      <th>4</th>\n",
       "      <td>0.041</td>\n",
       "      <td>0.07</td>\n",
       "      <td>0.026</td>\n",
       "      <td>0.0</td>\n",
       "    </tr>\n",
       "    <tr>\n",
       "      <th>5</th>\n",
       "      <td>0.038</td>\n",
       "      <td>0.07</td>\n",
       "      <td>0.012</td>\n",
       "      <td>0.0</td>\n",
       "    </tr>\n",
       "  </tbody>\n",
       "</table>\n",
       "</div>"
      ],
      "text/plain": [
       "     CH1   CH2    CH3  Pulse2\n",
       "1  0.036  0.07  0.017     0.0\n",
       "2  0.036  0.07  0.017     0.0\n",
       "3  0.041  0.08  0.021     0.0\n",
       "4  0.041  0.07  0.026     0.0\n",
       "5  0.038  0.07  0.012     0.0"
      ]
     },
     "metadata": {},
     "output_type": "display_data"
    }
   ],
   "source": [
    "df_csv = df_csv.astype(np.float64)\n",
    "df_csv.dtypes\n",
    "display(df_csv.head())"
   ]
  },
  {
   "cell_type": "markdown",
   "metadata": {},
   "source": [
    "### データの数は…"
   ]
  },
  {
   "cell_type": "code",
   "execution_count": 11,
   "metadata": {},
   "outputs": [
    {
     "data": {
      "text/plain": [
       "CH1       380981\n",
       "CH2       380981\n",
       "CH3       380981\n",
       "Pulse2    380981\n",
       "dtype: int64"
      ]
     },
     "execution_count": 11,
     "metadata": {},
     "output_type": "execute_result"
    }
   ],
   "source": [
    "df_csv.count()"
   ]
  },
  {
   "cell_type": "code",
   "execution_count": 12,
   "metadata": {},
   "outputs": [
    {
     "name": "stdout",
     "output_type": "stream",
     "text": [
      "11.804    16681\n",
      "11.820    11448\n",
      "11.798    11435\n",
      "11.809    10713\n",
      "11.836    10315\n",
      "          ...  \n",
      "11.585        1\n",
      "9.087         1\n",
      "10.716        1\n",
      "1.377         1\n",
      "0.250         1\n",
      "Name: CH1, Length: 324, dtype: int64\n",
      "<class 'pandas.core.series.Series'>\n"
     ]
    }
   ],
   "source": [
    "vc = df_csv['CH1'].value_counts()\n",
    "print(vc)\n",
    "print(type(vc))"
   ]
  },
  {
   "cell_type": "markdown",
   "metadata": {},
   "source": [
    "### CH1_int～CH3_intを用意してそれを0-1に使う"
   ]
  },
  {
   "cell_type": "code",
   "execution_count": 13,
   "metadata": {},
   "outputs": [],
   "source": [
    "df_csv[\"CH1_int\"] = df_csv[\"CH1\"]\n",
    "df_csv.loc[df_csv.CH1_int < 1, \"CH1_int\"] = 0\n",
    "df_csv.loc[df_csv.CH1_int >= 1, \"CH1_int\"] = 1\n",
    "df_csv[\"CH2_int\"] = df_csv[\"CH2\"]\n",
    "df_csv.loc[df_csv.CH2_int < 1, \"CH2_int\"] = 0\n",
    "df_csv.loc[df_csv.CH2_int >= 1, \"CH2_int\"] = 1\n",
    "df_csv[\"CH3_int\"] = df_csv[\"CH3\"]\n",
    "df_csv.loc[df_csv.CH3_int < 1, \"CH3_int\"] = 0\n",
    "df_csv.loc[df_csv.CH3_int >= 1, \"CH3_int\"] = 1"
   ]
  },
  {
   "cell_type": "markdown",
   "metadata": {},
   "source": [
    "### 0-1に分けたものの数を数えてみる。"
   ]
  },
  {
   "cell_type": "code",
   "execution_count": 14,
   "metadata": {},
   "outputs": [
    {
     "name": "stdout",
     "output_type": "stream",
     "text": [
      "1.0    369832\n",
      "0.0     11149\n",
      "Name: CH1_int, dtype: int64\n",
      "<class 'pandas.core.series.Series'>\n",
      "1.0    369844\n",
      "0.0     11137\n",
      "Name: CH2_int, dtype: int64\n",
      "<class 'pandas.core.series.Series'>\n",
      "0.0    380981\n",
      "Name: CH3_int, dtype: int64\n",
      "<class 'pandas.core.series.Series'>\n"
     ]
    }
   ],
   "source": [
    "vc = df_csv['CH1_int'].value_counts()\n",
    "print(vc)\n",
    "print(type(vc))\n",
    "vc2 = df_csv['CH2_int'].value_counts()\n",
    "print(vc2)\n",
    "print(type(vc2))\n",
    "vc3 = df_csv['CH3_int'].value_counts()\n",
    "print(vc3)\n",
    "print(type(vc3))"
   ]
  },
  {
   "cell_type": "markdown",
   "metadata": {},
   "source": [
    "### カウンタ変数を用意する"
   ]
  },
  {
   "cell_type": "code",
   "execution_count": 15,
   "metadata": {},
   "outputs": [],
   "source": [
    "CH1_CNT = 0\n",
    "CH2_CNT = 0\n",
    "CH3_CNT = 0"
   ]
  },
  {
   "cell_type": "markdown",
   "metadata": {},
   "source": [
    "### 行と列を指定した要素の取り出し方を見る"
   ]
  },
  {
   "cell_type": "code",
   "execution_count": 16,
   "metadata": {},
   "outputs": [
    {
     "data": {
      "text/plain": [
       "0.036"
      ]
     },
     "execution_count": 16,
     "metadata": {},
     "output_type": "execute_result"
    }
   ],
   "source": [
    "df_csv['CH1']\n",
    "df_csv.loc[1,'CH1']"
   ]
  },
  {
   "cell_type": "markdown",
   "metadata": {},
   "source": [
    "### 繰り返し回数をNUMに入れておく"
   ]
  },
  {
   "cell_type": "code",
   "execution_count": 17,
   "metadata": {},
   "outputs": [
    {
     "data": {
      "text/plain": [
       "380981"
      ]
     },
     "execution_count": 17,
     "metadata": {},
     "output_type": "execute_result"
    }
   ],
   "source": [
    "NUM = df_csv['CH1'].count()\n",
    "NUM"
   ]
  },
  {
   "cell_type": "markdown",
   "metadata": {},
   "source": [
    "### NUM回繰り返し。1V未満→1V超の変化を見つけるとカウントアップ。"
   ]
  },
  {
   "cell_type": "code",
   "execution_count": 18,
   "metadata": {},
   "outputs": [],
   "source": [
    "for cnt in range(NUM):\n",
    "    now = df_csv.loc[(1+cnt),'CH1_int']\n",
    "    nxt = df_csv.loc[(2+cnt),'CH1_int']\n",
    "    \n",
    "    if (now == 0) and (nxt == 1):\n",
    "        CH1_CNT += 1\n",
    "        \n",
    "    now = df_csv.loc[(1+cnt),'CH2_int']\n",
    "    nxt = df_csv.loc[(2+cnt),'CH2_int']\n",
    "    \n",
    "    if (now == 0) and (nxt == 1):\n",
    "        CH2_CNT += 1\n",
    "        \n",
    "    now = df_csv.loc[(1+cnt),'CH3_int']\n",
    "    nxt = df_csv.loc[(2+cnt),'CH3_int']\n",
    "    \n",
    "    if (now == 0) and (nxt == 1):\n",
    "        CH3_CNT += 1\n",
    "        \n",
    "    if (cnt + 2) >= NUM:\n",
    "        break\n"
   ]
  },
  {
   "cell_type": "markdown",
   "metadata": {},
   "source": [
    "### 以下は各CHのカウント数"
   ]
  },
  {
   "cell_type": "code",
   "execution_count": 19,
   "metadata": {},
   "outputs": [
    {
     "data": {
      "text/plain": [
       "111"
      ]
     },
     "execution_count": 19,
     "metadata": {},
     "output_type": "execute_result"
    }
   ],
   "source": [
    "CH1_CNT"
   ]
  },
  {
   "cell_type": "code",
   "execution_count": 20,
   "metadata": {},
   "outputs": [
    {
     "data": {
      "text/plain": [
       "111"
      ]
     },
     "execution_count": 20,
     "metadata": {},
     "output_type": "execute_result"
    }
   ],
   "source": [
    "CH2_CNT"
   ]
  },
  {
   "cell_type": "code",
   "execution_count": 21,
   "metadata": {},
   "outputs": [
    {
     "data": {
      "text/plain": [
       "0"
      ]
     },
     "execution_count": 21,
     "metadata": {},
     "output_type": "execute_result"
    }
   ],
   "source": [
    "CH3_CNT"
   ]
  },
  {
   "cell_type": "markdown",
   "metadata": {},
   "source": [
    "### ここではCH1とCH2は回数同じで、111回のカウントがあった事が判る。"
   ]
  },
  {
   "cell_type": "code",
   "execution_count": null,
   "metadata": {},
   "outputs": [],
   "source": []
  }
 ],
 "metadata": {
  "kernelspec": {
   "display_name": "Python 3",
   "language": "python",
   "name": "python3"
  },
  "language_info": {
   "codemirror_mode": {
    "name": "ipython",
    "version": 3
   },
   "file_extension": ".py",
   "mimetype": "text/x-python",
   "name": "python",
   "nbconvert_exporter": "python",
   "pygments_lexer": "ipython3",
   "version": "3.8.3"
  }
 },
 "nbformat": 4,
 "nbformat_minor": 4
}
